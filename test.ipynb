{
 "cells": [
  {
   "cell_type": "code",
   "execution_count": 1,
   "metadata": {},
   "outputs": [],
   "source": [
    "import canvas_interface\n",
    "import lesson_content\n",
    "from datetime import date\n",
    "import requests\n",
    "import pandas as pd\n",
    "from io import StringIO\n",
    "from credentials import Credentials\n",
    "from saturncloud import UpdatedLinksDf, update_course, make_saturn_button, GetSaturnLink, fix_single_sc\n",
    "from markdown import markdown\n",
    "import yaml\n",
    "from git import Repo, Git, CommandError\n",
    "import os\n",
    "import nbformat\n",
    "import re\n",
    "\n"
   ]
  },
  {
   "cell_type": "code",
   "execution_count": 2,
   "metadata": {},
   "outputs": [],
   "source": [
    "id = 'setting-up-a-professional-data-science-environment-windows-installation'\n",
    "lesson = canvas_interface.Get_lesson(6948, id, 'c', 'p')"
   ]
  },
  {
   "cell_type": "code",
   "execution_count": 3,
   "metadata": {},
   "outputs": [],
   "source": [
    "lesson = lesson.get_lesson()"
   ]
  },
  {
   "cell_type": "code",
   "execution_count": 4,
   "metadata": {},
   "outputs": [
    {
     "data": {
      "text/plain": [
       "{'title': 'Setting up a Professional Data Science Environment - Windows Installation',\n",
       " 'created_at': '2023-04-03T19:57:53Z',\n",
       " 'url': 'setting-up-a-professional-data-science-environment-windows-installation',\n",
       " 'editing_roles': 'teachers',\n",
       " 'page_id': 257240,\n",
       " 'published': True,\n",
       " 'hide_from_students': False,\n",
       " 'front_page': False,\n",
       " 'html_url': 'https://learning.flatironschool.com/courses/6948/pages/setting-up-a-professional-data-science-environment-windows-installation',\n",
       " 'todo_date': None,\n",
       " 'publish_at': None,\n",
       " 'updated_at': '2023-04-03T19:57:53Z',\n",
       " 'locked_for_user': False,\n",
       " 'body': '<div id=\"git-data-element\" data-org=\"learn-co-curriculum\" data-repo=\"dsc-data-science-env-windows-installation\"></div>\\n<header class=\"fis-header\" style=\"visibility: hidden;\"><a class=\"fis-git-link\" href=\"https://github.com/learn-co-curriculum/dsc-data-science-env-windows-installation\" target=\"_blank\"><img id=\"repo-img\" title=\"Open GitHub Repo\" alt=\"GitHub Repo\"></a><a class=\"fis-git-link\" href=\"https://github.com/learn-co-curriculum/dsc-data-science-env-windows-installation/issues/new\" target=\"_blank\"><img id=\"issue-img\" title=\"Create New Issue\" alt=\"Create New Issue\"></a></header>\\n<h2>Introduction</h2>\\n<p>There are two major pieces we need to install in order to set you up for success as a professional data scientist! In this lesson, we will be installing Git and Anaconda for Windows.</p>\\n<h2>Objectives</h2>\\n<p>You will be able to:</p>\\n<ul>\\n<li>Install Git</li>\\n<li>Install Anaconda</li>\\n</ul>\\n<p>Let’s start by getting Git and Anaconda installed.</p>\\n<p>Please note - the exact names and versions will change over time.</p>\\n<h2>Installing Git</h2>\\n<h3>Overview:</h3>\\n<ol>\\n<li>Download the install package from <a href=\"https://git-scm.com/download/win\" target=\"_blank\">here</a>.\\n<ul>\\n<li>If you do not know whether you need the 32 or 64-bit install, check your system type. On Windows 10, head to Settings &gt; System &gt; About. Under the Device specifications header, next to System type, you’ll see if Windows and your processor are 32-bit or 64-bit.</li>\\n</ul>\\n</li>\\n<li>Open the downloaded exe file\\n<ul>\\n<li>You can either click the downloaded file at the bottom of your browser to open, or navigate to your downloads folder</li>\\n<li>It may open a window asking if you want to allow this application to make changes to your device, click “Yes”</li>\\n<li>Click “Next” to accept the license</li>\\n</ul>\\n</li>\\n<li>Select the installation desination\\n<ul>\\n<li>The default option is recommended</li>\\n</ul>\\n</li>\\n<li>Select components\\n<ul>\\n<li>Make sure to keep the “Windows Explorer integration” options checked</li>\\n<li>Otherwise, the default options are recommended</li>\\n</ul>\\n</li>\\n<li>Choose a default editor that you are comfortable with, or choose either Nano or Visual Studio Code if you have not used an editor before\\n<ul>\\n<li>If you know or have used vi/vim, feel free to use it (otherwise it is not recommended)</li>\\n<li>You must have the editor installed to continue. You can set a default now and change it later.</li>\\n</ul>\\n</li>\\n<li>Adjust the PATH environment\\n<ul>\\n<li>Select “Use Git from the Windows Command Prompt”</li>\\n<li>The first option is also fine, as you’ll mainly be using Git from the new “Git Bash” program that is being installed, but the second option is ideal as it’ll give you the option of using it through either Git Bash or the Windows Command Prompt in the future if you wish</li>\\n</ul>\\n</li>\\n<li>Choose HTTPS transport backend.\\n<ul>\\n<li>Select the “Use the OpenSSL library” option</li>\\n</ul>\\n</li>\\n<li>Configure line-ending conversions\\n<ul>\\n<li>The default option is recommended</li>\\n</ul>\\n</li>\\n<li>Configure the terminal emulator\\n<ul>\\n<li>Select MinTTY as the default terminal emulator</li>\\n</ul>\\n</li>\\n<li>Choose the default behavior of <code>git pull</code>\\n<ul>\\n<li>The default option is recommended</li>\\n</ul>\\n</li>\\n<li>Configure extra options to enable file system caching</li>\\n<li>Choose a credential helper\\n<ul>\\n<li>Select Git Credential Manager</li>\\n</ul>\\n</li>\\n<li>Wait while Git is installed onto your computer</li>\\n<li>Click \"Finish\" to complete set-up\\n<ul>\\n<li>It is not necessary to view the release notes</li>\\n</ul>\\n</li>\\n</ol>\\n<p>* It is <strong>strongly recommended</strong> that you select any options to install and use the \"Git Bash\" shell - it\\'s generally included by default. The Git Bash shell will allow students with either Windows or Mac computers to run the same set of commands, and all commands in this program follow that convention.</p>\\n<p>Note - if there are any differences in the options provided in the installer you download, accept the defaults.</p>\\n<h4>Git Installation Step-by-Step:</h4>\\n<p><iframe src=\"https://docs.google.com/presentation/d/e/2PACX-1vSB09TxDpbxOjud38L2dX0_YJbh2JOVDMYqkTOxhEbhKKLjCmwM9JP27JTJ8VtOYAwnPzlJg_Ipf7gd/embed?start=false&amp;loop=false&amp;delayms=3000\" width=\"960\" height=\"569\" allowfullscreen=\"allowfullscreen\" webkitallowfullscreen=\"webkitallowfullscreen\" mozallowfullscreen=\"mozallowfullscreen\"></iframe></p>\\n<h3>Confirming Your Git Installation</h3>\\n<p>To confirm you have installed Git successfully:</p>\\n<ol>\\n<li>Open a terminal window\\n<ul>\\n<li>When we ask you to use the terminal, we mean the Git Bash application we just installed through Git</li>\\n</ul>\\n</li>\\n<li>Type <code>git --version</code>: It should return the version of git you are running</li>\\n</ol>\\n<hr>\\n<h2>Installing Anaconda</h2>\\n<p><img src=\"https://raw.githubusercontent.com/learn-co-curriculum/dsc-data-science-env-windows-installation/master/images/win_anaconda.png\" width=\"650\"></p>\\n<p>The easiest way to get set up with Python and Jupyter Notebook so you can start coding is to install the Anaconda distribution.</p>\\n<h3>Overview:</h3>\\n<ol>\\n<li>Download the latest version of Anaconda <a href=\"https://www.anaconda.com/download/#windows\" target=\"_blank\">here</a>\\n<ul>\\n<li>Same as with the Git installation - If you do not know whether you need the 32 or 64-bit install, check your system type.</li>\\n<li>A window may pop up asking if you want to give Anaconda your information in return for a cheat sheet - you do not need to do so unless you want to.</li>\\n</ul>\\n</li>\\n<li>Open the .exe file once it has downloaded to open the Anaconda installer\\n<ul>\\n<li>Click \"Next\", then \"I Agree\" to accept the license</li>\\n</ul>\\n</li>\\n<li>Install for \"Just Me\"</li>\\n<li>Select the destination folder\\n<ul>\\n<li>The default option is recommended</li>\\n</ul>\\n</li>\\n<li>\\n<strong>Choose both Advanced Installation Options</strong>\\n<ul>\\n<li>Although you will see a warning from the installer, <strong><em>make sure</em></strong> to choose <em>both</em> \"Add Anaconda to my PATH environment variable\" <em>and</em> \"Register Anaconda as my default Python\" !!</li>\\n<li>For this program, these options will actually avoid you needed to uninstall and reinstall Anaconda in the near future, which is what they\\'re warning about</li>\\n</ul>\\n</li>\\n<li>Wait while Anaconda is installed on your computer\\n<ul>\\n<li>You can ignore any supplementary materials advertised, such as PyCharm</li>\\n</ul>\\n</li>\\n<li>When it thanks you for installing Anaconda, click \"Finish\"\\n<ul>\\n<li>You do not need to learn more about your installation, and can close the browser window if one opens</li>\\n</ul>\\n</li>\\n</ol>\\n<h4>Anaconda Installation Step-by-Step:</h4>\\n<p><iframe src=\"https://docs.google.com/presentation/d/e/2PACX-1vS_m9nr642u3w6p3MmgyvnRWHgVRLVA_8EwsW8UDxgbxmMU2cJ04AkQSbBafLqGOJgQveXLzQtBWIas/embed?start=false&amp;loop=false&amp;delayms=3000\" width=\"960\" height=\"569\" allowfullscreen=\"allowfullscreen\" webkitallowfullscreen=\"webkitallowfullscreen\" mozallowfullscreen=\"mozallowfullscreen\"></iframe></p>\\n<h3>Confirming Your Anaconda Installation</h3>\\n<p>To confirm you have installed Anaconda successfully:</p>\\n<ol>\\n<li>Open a terminal window</li>\\n<li>Type <code>conda info</code>: It should return a table of details about your conda installation</li>\\n</ol>\\n<h2>Summary</h2>\\n<p>Congratulations! If you\\'ve gotten this far and everything has worked, you have successfully installed Git and Anaconda on your Windows PC!</p>'}"
      ]
     },
     "execution_count": 4,
     "metadata": {},
     "output_type": "execute_result"
    }
   ],
   "source": [
    "lesson"
   ]
  },
  {
   "cell_type": "markdown",
   "metadata": {},
   "source": [
    "[Sub-account](#sub-account)\n",
    "[ChatGPT Function](#chatgpt-function)\n"
   ]
  },
  {
   "cell_type": "code",
   "execution_count": null,
   "metadata": {},
   "outputs": [],
   "source": [
    "# Generate a single link for manual copy paste\n",
    "\n",
    "df = UpdatedLinksDf()\n",
    "repo = 'https://github.com/learn-co-curriculum/dsc-saturncloud-notebook-template'\n",
    "name = repo.split('/')[-1]\n",
    "link = GetSaturnLink(name, 'enterprise', df.df)\n",
    "button = make_saturn_button(link.link)\n",
    "print(button)"
   ]
  },
  {
   "cell_type": "code",
   "execution_count": null,
   "metadata": {},
   "outputs": [],
   "source": [
    "auth = Credentials('e')"
   ]
  },
  {
   "cell_type": "code",
   "execution_count": null,
   "metadata": {},
   "outputs": [],
   "source": [
    "fix_single_sc(auth.API_KEY, auth.API_PATH, auth.instance, 779, 38934)"
   ]
  },
  {
   "cell_type": "code",
   "execution_count": null,
   "metadata": {},
   "outputs": [],
   "source": [
    "course_id = 748\n",
    "headers = {\n",
    "        'Authorization': f'Bearer {auth.API_KEY}'\n",
    "        }\n",
    "course_file = []\n",
    "course_url = f'{auth.API_PATH}/courses/{course_id}'\n",
    "course_response = requests.get(course_url, headers=headers)\n",
    "course_file.append(course_response.json())\n",
    "\n",
    "done = False\n",
    "page = 1\n",
    "pages = []\n",
    "while(not done):\n",
    "    page_url = f\"{auth.API_PATH}/courses/{course_id}/modules?per_page=100&page={page}\"\n",
    "    page_response = requests.get(page_url, headers=headers)\n",
    "    response_list = page_response.json()\n",
    "    for i, module in enumerate(response_list):\n",
    "        items_url = module['items_url']\n",
    "        items_response = requests.get(items_url, headers=headers)\n",
    "        response_list[i]['module_items'] = items_response.json()\n",
    "    pages.extend(response_list)\n",
    "    if (len(response_list) < 100):\n",
    "        done = True\n",
    "    else:\n",
    "        page += 1\n",
    "course_file[0]['modules'] = pages"
   ]
  },
  {
   "cell_type": "code",
   "execution_count": null,
   "metadata": {},
   "outputs": [],
   "source": [
    "query = canvas_interface.course_query('e', 779)\n",
    "\n",
    "urls = []\n",
    "for module in query[0]['modules']:\n",
    "    for lesson in module['module_items']:\n",
    "        urls.append(lesson['url'])\n",
    "\n",
    "from bs4 import BeautifulSoup as bs\n",
    "links = []\n",
    "for i, lesson in enumerate(urls):\n",
    "        print(i, lesson)\n",
    "        if lesson == None:\n",
    "                continue\n",
    "        headers = {\n",
    "                'Authorization': f'Bearer {auth.API_KEY}'\n",
    "                }\n",
    "\n",
    "        response = requests.get(lesson, headers=headers)\n",
    "        \n",
    "        try:\n",
    "                text = response.json()['body']\n",
    "                print('sucess!!')\n",
    "        except:                \n",
    "                try:\n",
    "                        if response.json()['description'] == None:\n",
    "                                print('Empty Description')\n",
    "                                continue\n",
    "                        else:\n",
    "                                text = response.json()['description']\n",
    "                                print('sucess!', response.json())\n",
    "                except:\n",
    "                        print(f'{i} is no good!')\n",
    "                        continue\n",
    "\n",
    "        soup = bs(text, 'html.parser')\n",
    "        try:\n",
    "                link = soup.find('a', attrs={'class':'fis-git-link'})['href']\n",
    "                links.append(link)\n",
    "        except:\n",
    "                continue\n",
    "\n",
    "df = pd.DataFrame(links, columns=['Links'])\n",
    "\n",
    "df.to_csv('links_to_time.csv')"
   ]
  },
  {
   "cell_type": "code",
   "execution_count": null,
   "metadata": {},
   "outputs": [],
   "source": [
    "with open('deloitte_748.yml', 'w') as f:\n",
    "    f.write(yaml.load(query))"
   ]
  },
  {
   "cell_type": "code",
   "execution_count": null,
   "metadata": {},
   "outputs": [],
   "source": [
    "course = canvas_interface.Course(auth.API_KEY, auth.API_PATH, 748)\n"
   ]
  },
  {
   "cell_type": "code",
   "execution_count": null,
   "metadata": {},
   "outputs": [],
   "source": [
    "headers = {\n",
    "        'Authorization': f'Bearer {auth.API_KEY}'\n",
    "    }\n",
    "\n",
    "done = False\n",
    "page = 1\n",
    "assignments = []\n",
    "assn_url = f\"{auth.API_PATH}/courses/{2}/assignments?per_page=100&page={page}\"\n",
    "assn_response = requests.get(assn_url, headers=headers)\n",
    "response_list = assn_response.json()"
   ]
  },
  {
   "cell_type": "code",
   "execution_count": null,
   "metadata": {},
   "outputs": [],
   "source": [
    "assn_response.text\n"
   ]
  },
  {
   "cell_type": "code",
   "execution_count": null,
   "metadata": {},
   "outputs": [],
   "source": [
    "headers = {\n",
    "        'Authorization': f'Bearer {auth.API_KEY}'\n",
    "    }\n",
    "\n",
    "done = False\n",
    "page = 1\n",
    "assignments = []\n",
    "while(not done):\n",
    "    assn_url = f\"{auth.API_PATH}/courses/{3}/assignments?per_page=100&page={page}\"\n",
    "    assn_response = requests.get(assn_url, headers=headers)\n",
    "    response_list = assn_response.json()\n",
    "    assignments.extend(response_list)\n",
    "    \n",
    "    if (len(response_list) < 100):\n",
    "        done = True\n",
    "    else:\n",
    "        page += 1\n",
    "        \n",
    "clean_list = list(filter(lambda x: x['description'] != None, assignments))\n",
    "\n",
    "saturncloud_tag = 'saturnenterprise.io/dash/resources'\n",
    "saturncloud_assign = list(filter(lambda x: saturncloud_tag in x['description'], clean_list))\n",
    "\n",
    "\n",
    "assignments = saturncloud_assign\n",
    "number_of_assignments = len(saturncloud_assign)"
   ]
  },
  {
   "cell_type": "code",
   "execution_count": null,
   "metadata": {},
   "outputs": [],
   "source": [
    "number_of_assignments"
   ]
  },
  {
   "cell_type": "code",
   "execution_count": null,
   "metadata": {},
   "outputs": [],
   "source": [
    "saturncloud_tag = 'saturnenterprise.io/dash/resources'\n",
    "saturncloud_assign = []\n",
    "for x in assignments:\n",
    "    print(x['id'])\n",
    "    if 'external_tool_tag_attributes' not in x.keys():\n",
    "        if saturncloud_tag in x['description']:\n",
    "            saturncloud_assign.append(x)\n",
    "        else:\n",
    "            pass\n",
    "    else:\n",
    "        print('error', x['id'])"
   ]
  },
  {
   "cell_type": "code",
   "execution_count": null,
   "metadata": {},
   "outputs": [],
   "source": [
    "assignments[0].keys()"
   ]
  },
  {
   "cell_type": "code",
   "execution_count": null,
   "metadata": {},
   "outputs": [],
   "source": [
    "saturncloud_tag = 'saturnenterprise.io/dash/resources'\n",
    "saturncloud_assign = list(filter(lambda x: saturncloud_tag in x['description'] if 'external_tool_tag_attributes' in x.keys() else None, assignments))"
   ]
  },
  {
   "cell_type": "code",
   "execution_count": null,
   "metadata": {},
   "outputs": [],
   "source": [
    "import os\n",
    "path = '/Users/jeffreyhinkle/cooldown/dsc-statistical-power-lab/README.md'\n",
    "with open(path, 'r') as f:\n",
    "    raw_content = f.read()"
   ]
  },
  {
   "cell_type": "code",
   "execution_count": null,
   "metadata": {},
   "outputs": [],
   "source": [
    "import latex\n",
    "m_down = latex.latex_to_img(raw_content)"
   ]
  },
  {
   "cell_type": "code",
   "execution_count": null,
   "metadata": {},
   "outputs": [],
   "source": [
    "import requests\n",
    "import credentials\n",
    "import lesson_content\n",
    "auth = credentials.Credentials('c')\n",
    "remote = False\n",
    "sc=False\n",
    "course_id = 6363\n",
    "headers = {\n",
    "        'Authorization': f'Bearer {auth.API_KEY}'\n",
    "        }\n",
    "\n",
    "if remote:\n",
    "    content = lesson_content.GithubContent(auth.instance, sc, remote_url='')\n",
    "else:\n",
    "    content = lesson_content.LocalContent(auth.instance, sc)\n",
    "\n",
    "if sc:\n",
    "    new_description = f'{content.data_element} {content.header} {content.intro} {content.button}'\n",
    "    \n",
    "else:\n",
    "    new_description = f'{content.data_element} {content.header} {content.html}'\n",
    "\n",
    "    # setting up the payload for delivery\n",
    "\n",
    "payload = {\n",
    "    \"wiki_page[title]\": 'Test',\n",
    "    \"wiki_pages[body]\": new_description\n",
    "    }\n",
    "\n",
    "page_url = f\"{auth.API_PATH}/courses/{course_id}/pages/121212\"\n",
    "\n",
    "put_response = requests.put(page_url, headers=headers, data=payload)\n",
    "print(content.title, 'Completed')\n"
   ]
  },
  {
   "cell_type": "code",
   "execution_count": null,
   "metadata": {},
   "outputs": [],
   "source": [
    "lesson_url = ''\n",
    "branch = 'master'\n",
    "url = f'http://raw.githubusercontent.com/learn-co-curriculum/{lesson_url}/{branch}/README.md'\n",
    "resp = requests.get(url)\n",
    "github_content = resp.text"
   ]
  },
  {
   "cell_type": "code",
   "execution_count": null,
   "metadata": {},
   "outputs": [],
   "source": [
    "import images\n",
    "git_repo = 'https://github.com/learn-co-curriculum/dsc-seaborn'\n",
    "images.fix_image_src(git_repo, 'data-science/images', remote=True)"
   ]
  },
  {
   "cell_type": "markdown",
   "metadata": {},
   "source": [
    "# Sub-Account"
   ]
  },
  {
   "cell_type": "code",
   "execution_count": null,
   "metadata": {},
   "outputs": [],
   "source": [
    "# Get a list of courses in a sub-account\n",
    "sub_accounts = {'flex': 665, 'live': 655, 'pre_work': 968}\n",
    "\n",
    "auth = Credentials('c')\n",
    "headers = {\n",
    "        'Authorization': f'Bearer {auth.API_KEY}'\n",
    "    }\n",
    "\n",
    "for mod, acct in sub_accounts.items():\n",
    "    done = False\n",
    "    page = 1\n",
    "    pages = []\n",
    "\n",
    "    while(not done):\n",
    "        courses_url = f\"{auth.API_PATH}/accounts/{acct}/courses?per_page=100&page={page}\"\n",
    "        courses_response = requests.get(courses_url, headers=headers)\n",
    "        response_list = courses_response.json()\n",
    "        pages.extend(response_list)\n",
    "        \n",
    "        if (len(response_list) < 100):\n",
    "            done = True\n",
    "        else:\n",
    "            page += 1\n",
    "    sub_accounts[mod] = pages"
   ]
  },
  {
   "cell_type": "code",
   "execution_count": null,
   "metadata": {},
   "outputs": [],
   "source": [
    "from datetime import date\n",
    "date = date.today().strftime('%m-%d-%Y')\n",
    "date"
   ]
  },
  {
   "cell_type": "code",
   "execution_count": null,
   "metadata": {},
   "outputs": [],
   "source": [
    "import calendar\n",
    "calendar.month_name[date.month]"
   ]
  },
  {
   "cell_type": "code",
   "execution_count": null,
   "metadata": {},
   "outputs": [],
   "source": [
    "date.day"
   ]
  },
  {
   "cell_type": "code",
   "execution_count": null,
   "metadata": {},
   "outputs": [],
   "source": [
    "import requests\n",
    "import os\n",
    "remote_url = 'https://github.com/learn-co-curriculum/dsc-data-science-env-windows-installation'\n",
    "\n",
    "repo_name = remote_url.split('/')[-1].rstrip('.git')\n",
    "owner = 'learn-co-curriculum'\n",
    "branches = ['main', 'master']\n",
    "MY_TOKEN = os.getenv('GITHUB_TOKEN')\n",
    "\n",
    "headers = {\n",
    "    \"Authorization\": f\"Bearer {MY_TOKEN}\",\n",
    "    \"Accept\": \"application/vnd.github+json\"\n",
    "}\n",
    "readme = None\n",
    "for branch_name in branches:\n",
    "    readme_url = f\"https://raw.githubusercontent.com/{owner}/{repo_name}/{branch_name}/README.md\"\n",
    "    response = requests.get(readme_url, headers=headers)\n",
    "    print(response.status_code)\n",
    "    if response.status_code == 200:\n",
    "        readme = response.text\n",
    "        print(f'Not {branch_name}')"
   ]
  },
  {
   "cell_type": "code",
   "execution_count": null,
   "metadata": {},
   "outputs": [],
   "source": [
    "print(readme[:100])"
   ]
  },
  {
   "cell_type": "code",
   "execution_count": 6,
   "metadata": {},
   "outputs": [
    {
     "data": {
      "text/plain": [
       "'data-science-env-windows-installation'"
      ]
     },
     "execution_count": 6,
     "metadata": {},
     "output_type": "execute_result"
    }
   ],
   "source": [
    "name = \"-\".join(['Data', 'Science', 'Env', 'Windows', 'Installation']).lower()\n",
    "name"
   ]
  },
  {
   "cell_type": "code",
   "execution_count": 7,
   "metadata": {},
   "outputs": [
    {
     "data": {
      "text/plain": [
       "['science', 'env', 'windows', 'installation']"
      ]
     },
     "execution_count": 7,
     "metadata": {},
     "output_type": "execute_result"
    }
   ],
   "source": [
    "name.split('-')[1:]"
   ]
  },
  {
   "cell_type": "code",
   "execution_count": 13,
   "metadata": {},
   "outputs": [],
   "source": [
    "remote_url = 'https://github.com/learn-co-curriculum/dsc-data-science-env-windows-installation'\n",
    "repo_name = remote_url.split('/')[-1].rstrip('.git')"
   ]
  },
  {
   "cell_type": "code",
   "execution_count": 14,
   "metadata": {},
   "outputs": [
    {
     "data": {
      "text/plain": [
       "'dsc-data-science-env-windows-installation'"
      ]
     },
     "execution_count": 14,
     "metadata": {},
     "output_type": "execute_result"
    }
   ],
   "source": [
    "repo_name\n"
   ]
  },
  {
   "cell_type": "code",
   "execution_count": 18,
   "metadata": {},
   "outputs": [
    {
     "data": {
      "text/plain": [
       "'data-science-env-windows-installation'"
      ]
     },
     "execution_count": 18,
     "metadata": {},
     "output_type": "execute_result"
    }
   ],
   "source": [
    "\n",
    "repo = \"-\".join(repo_name.split('-')[1:]).lower()\n",
    "repo"
   ]
  },
  {
   "cell_type": "code",
   "execution_count": 25,
   "metadata": {},
   "outputs": [],
   "source": [
    "name = 'Setting up a Professional Data Science Environment - Windows Installation'\n",
    "name = name.replace('- ', '')"
   ]
  },
  {
   "cell_type": "code",
   "execution_count": 26,
   "metadata": {},
   "outputs": [],
   "source": [
    "\n",
    "slug = (\"-\".join(name.split(' ')).lower())"
   ]
  },
  {
   "cell_type": "code",
   "execution_count": 27,
   "metadata": {},
   "outputs": [
    {
     "data": {
      "text/plain": [
       "'setting-up-a-professional-data-science-environment-windows-installation'"
      ]
     },
     "execution_count": 27,
     "metadata": {},
     "output_type": "execute_result"
    }
   ],
   "source": [
    "slug"
   ]
  },
  {
   "cell_type": "code",
   "execution_count": 16,
   "metadata": {},
   "outputs": [
    {
     "data": {
      "text/plain": [
       "'data-science-env-windows-installation'"
      ]
     },
     "execution_count": 16,
     "metadata": {},
     "output_type": "execute_result"
    }
   ],
   "source": [
    "slug"
   ]
  },
  {
   "cell_type": "code",
   "execution_count": 1,
   "metadata": {},
   "outputs": [],
   "source": [
    "canvas_data = {':lessons': [{':id': 19172, ':course_id': 153, ':canvas_url': 'https://learning.flatironschool.com/courses/153/pages/setting-up-a-professional-data-science-environment-windows-installation', ':type': 'page'}]}\n",
    "\n",
    "lesson_data = {\n",
    "        \"id\": 20562,\n",
    "        \"course_id\": 6862,\n",
    "        \"instance\": 'consumer',\n",
    "        \"canvas_url\": 'https://learning.flatironschool.com/courses/6862/pages/fising-to-learn',\n",
    "        \"type\": 'page',\n",
    "        }"
   ]
  },
  {
   "cell_type": "code",
   "execution_count": 7,
   "metadata": {},
   "outputs": [],
   "source": [
    "canvas_data[':lessons']updated_file_old = .append(lesson_data)\n",
    "\n"
   ]
  },
  {
   "cell_type": "code",
   "execution_count": 12,
   "metadata": {},
   "outputs": [
    {
     "data": {
      "text/plain": [
       "[{':id': 19172,\n",
       "  ':course_id': 153,\n",
       "  ':canvas_url': 'https://learning.flatironschool.com/courses/153/pages/setting-up-a-professional-data-science-environment-windows-installation',\n",
       "  ':type': 'page'},\n",
       " {'id': 20562,\n",
       "  'course_id': 6862,\n",
       "  'instance': 'consumer',\n",
       "  'canvas_url': 'https://learning.flatironschool.com/courses/6862/pages/fising-to-learn',\n",
       "  'type': 'page'},\n",
       " {'id': 20562,\n",
       "  'course_id': 6862,\n",
       "  'instance': 'consumer',\n",
       "  'canvas_url': 'https://learning.flatironschool.com/courses/6862/pages/fising-to-learn',\n",
       "  'type': 'page'},\n",
       " {'id': 20562,\n",
       "  'course_id': 6862,\n",
       "  'instance': 'consumer',\n",
       "  'canvas_url': 'https://learning.flatironschool.com/courses/6862/pages/fising-to-learn',\n",
       "  'type': 'page'},\n",
       " {'id': 20562,\n",
       "  'course_id': 6862,\n",
       "  'instance': 'consumer',\n",
       "  'canvas_url': 'https://learning.flatironschool.com/courses/6862/pages/fising-to-learn',\n",
       "  'type': 'page'}]"
      ]
     },
     "execution_count": 12,
     "metadata": {},
     "output_type": "execute_result"
    }
   ],
   "source": [
    "canvas_data[':lessons']"
   ]
  },
  {
   "cell_type": "code",
   "execution_count": 10,
   "metadata": {},
   "outputs": [],
   "source": [
    "updated_file = {'lessons': []}\n"
   ]
  },
  {
   "cell_type": "code",
   "execution_count": 11,
   "metadata": {},
   "outputs": [
    {
     "data": {
      "text/plain": [
       "[]"
      ]
     },
     "execution_count": 11,
     "metadata": {},
     "output_type": "execute_result"
    }
   ],
   "source": [
    "updated_file['lessons']"
   ]
  },
  {
   "cell_type": "code",
   "execution_count": 4,
   "metadata": {},
   "outputs": [
    {
     "ename": "KeyError",
     "evalue": "'lessons'",
     "output_type": "error",
     "traceback": [
      "\u001b[0;31m---------------------------------------------------------------------------\u001b[0m",
      "\u001b[0;31mKeyError\u001b[0m                                  Traceback (most recent call last)",
      "\u001b[0;32m<ipython-input-4-9f4cfb18ee9c>\u001b[0m in \u001b[0;36m<module>\u001b[0;34m\u001b[0m\n\u001b[0;32m----> 1\u001b[0;31m \u001b[0mtype\u001b[0m\u001b[0;34m(\u001b[0m\u001b[0mupdated_file\u001b[0m\u001b[0;34m[\u001b[0m\u001b[0;34m'lessons'\u001b[0m\u001b[0;34m]\u001b[0m\u001b[0;34m)\u001b[0m\u001b[0;34m\u001b[0m\u001b[0;34m\u001b[0m\u001b[0m\n\u001b[0m",
      "\u001b[0;31mKeyError\u001b[0m: 'lessons'"
     ]
    }
   ],
   "source": [
    "type(updated_file['lessons'])"
   ]
  },
  {
   "cell_type": "code",
   "execution_count": null,
   "metadata": {},
   "outputs": [],
   "source": []
  }
 ],
 "metadata": {
  "kernelspec": {
   "display_name": "learn-env",
   "language": "python",
   "name": "python3"
  },
  "language_info": {
   "codemirror_mode": {
    "name": "ipython",
    "version": 3
   },
   "file_extension": ".py",
   "mimetype": "text/x-python",
   "name": "python",
   "nbconvert_exporter": "python",
   "pygments_lexer": "ipython3",
   "version": "3.8.5"
  },
  "orig_nbformat": 4
 },
 "nbformat": 4,
 "nbformat_minor": 2
}
